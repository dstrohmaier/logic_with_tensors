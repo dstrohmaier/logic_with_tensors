{
 "cells": [
  {
   "cell_type": "markdown",
   "metadata": {},
   "source": [
    "# Simulating Basic Logic with Tensors\n",
    "\n",
    "Can we simulate basic logic operations, i.e. the operations of first-order predicate logic, using tensors? In his 2013 paper \"Towards a Formal Distributional Semantics: Simulating Logical Calculi with Tensors\", Edward Grefenstette made some suggestions for such simulation.  The paper's motivation was to take a step towards combining distributional with formal semantics. Such a connection remains elusive. \n",
    "\n",
    "In this this notebook, I'm exploring the basic mechanisms Grefenstette proposed for simulating basic logic with tensors. If anything is unclear, have a look into the paper https://www.aclweb.org/anthology/S13-1001 or get in touch with me."
   ]
  },
  {
   "cell_type": "code",
   "execution_count": 1,
   "metadata": {},
   "outputs": [],
   "source": [
    "import numpy as np\n",
    "import pandas as pd\n",
    "import itertools"
   ]
  },
  {
   "cell_type": "markdown",
   "metadata": {},
   "source": [
    "Following Coecke et al. 2010, Grefenstette uses a boolean vector space called $B$. The basis of $B$ are the vectors $\\top = \\begin{bmatrix}1 & 0 \\end{bmatrix}^\\top$ and $\\bot = \\begin{bmatrix}0 & 1\\end{bmatrix}^\\top$, which stand for truth and falsity respectively."
   ]
  },
  {
   "cell_type": "code",
   "execution_count": 2,
   "metadata": {},
   "outputs": [
    {
     "data": {
      "text/plain": [
       "array([1, 0])"
      ]
     },
     "execution_count": 2,
     "metadata": {},
     "output_type": "execute_result"
    }
   ],
   "source": [
    "t = np.array([1, 0])\n",
    "f = np.array([0, 1])\n",
    "t"
   ]
  },
  {
   "cell_type": "markdown",
   "metadata": {},
   "source": [
    "But for formal logic we need much more than truth and falsity. We need also a domain of objects and predicates which can hold for these objects. The objects in the domain $\\mathcal{D}$ are represented using hot-one vectors. For example, the following three vectors cover the domain of John, Chris and Tom, i.e. $\\mathcal{D} = \\{John, Chris,Tom\\}$."
   ]
  },
  {
   "cell_type": "code",
   "execution_count": 3,
   "metadata": {},
   "outputs": [
    {
     "data": {
      "text/plain": [
       "(array([1, 0, 0]), array([0, 1, 0]), array([0, 0, 1]))"
      ]
     },
     "execution_count": 3,
     "metadata": {},
     "output_type": "execute_result"
    }
   ],
   "source": [
    "john, chris, tom = (np.eye(N=1, M=3, k=i, dtype=int).squeeze() for i in range(3))\n",
    "john, chris, tom"
   ]
  },
  {
   "cell_type": "markdown",
   "metadata": {},
   "source": [
    "In the next step we want to apply predicates to entities in the domain. More specifically, we want to have a representation of predicates which allows us to find out whether a predicate applies to an entity. For example, given the unary predicate P=\"is a mathematician\", we want to know whether it holds of John and Tom. For this purpose, unary predicates are represented as mapping objects from the domain to the boolean space, that is $f_p: \\mathcal{D} \\to \\mathbb{B}$ so that\n",
    "\n",
    "$f_P(x) = \n",
    "\\begin{cases}\n",
    "\\top & \\text{if}\\, x \\in \\text{extension of P} \\\\\n",
    "\\bot & \\text{otherwise}\n",
    "\\end{cases}$\n",
    "\n",
    "This linear map can again be expresse as a tensor, this time a tensor of rank 2, i.e. a matrix. If we assume that John and Chris are mathematician but Tom is not, then the matrix is $\\pmb{\\text{M}}^P = \\begin{bmatrix}1 & 1 & 0 \\\\ 0 & 0 & 1\\end{bmatrix}$."
   ]
  },
  {
   "cell_type": "code",
   "execution_count": 4,
   "metadata": {},
   "outputs": [],
   "source": [
    "mp = [[1, 1, 0], [0, 0, 1]]"
   ]
  },
  {
   "cell_type": "markdown",
   "metadata": {},
   "source": [
    "When we now apply the one-hot vector for John to the predicate matrix using matrix vector multiplication, we get the appropriate truth-value vector. In the notion of linear algebra:\n",
    "\n",
    "$\\pmb{\\text{M}}^P \\times \\pmb{\\text{john}} = \\begin{bmatrix}1 & 1 & 0 \\\\ 0 & 0 & 1\\end{bmatrix} \\begin{bmatrix}0\\\\ 1\\\\ 0\\end{bmatrix} = \\begin{bmatrix}1\\\\ 0\\end{bmatrix} = \\top$"
   ]
  },
  {
   "cell_type": "code",
   "execution_count": 5,
   "metadata": {},
   "outputs": [
    {
     "data": {
      "text/plain": [
       "array([1, 0])"
      ]
     },
     "execution_count": 5,
     "metadata": {},
     "output_type": "execute_result"
    }
   ],
   "source": [
    "value = np.matmul(mp, john)\n",
    "value"
   ]
  },
  {
   "cell_type": "code",
   "execution_count": 6,
   "metadata": {},
   "outputs": [
    {
     "data": {
      "text/plain": [
       "True"
      ]
     },
     "execution_count": 6,
     "metadata": {},
     "output_type": "execute_result"
    }
   ],
   "source": [
    "np.all(value == t)"
   ]
  },
  {
   "cell_type": "markdown",
   "metadata": {},
   "source": [
    "This approach also works for tom, who is not a mathematician.\n",
    "\n",
    "$\\pmb{\\text{M}}^P \\times \\pmb{\\text{tom}} = \\begin{bmatrix}1 & 1 & 0 \\\\ 0 & 0 & 1\\end{bmatrix} \\begin{bmatrix}0\\\\ 0\\\\ 1\\end{bmatrix} = \\begin{bmatrix}0\\\\ 1\\end{bmatrix} = \\bot$"
   ]
  },
  {
   "cell_type": "code",
   "execution_count": 7,
   "metadata": {},
   "outputs": [
    {
     "data": {
      "text/plain": [
       "array([0, 1])"
      ]
     },
     "execution_count": 7,
     "metadata": {},
     "output_type": "execute_result"
    }
   ],
   "source": [
    "np.matmul(mp, tom)"
   ]
  },
  {
   "cell_type": "markdown",
   "metadata": {},
   "source": [
    "## Logical Connectives\n",
    "\n",
    "So far we have only treated truth values, the domain individuals, and unary predicates. The next step is to intrduce logical connectives. Logical connectives such as $\\neg, \\lor, \\land, \\to$ are truth-functional, that is they take one or more truth-values as input and this input determines another truth-value as output. To implement these functions, Grefenstette again uses tensors. For the unary negation operator, a simple swap matrix suffices:\n",
    "\n",
    "$\\pmb{\\text{T}}^\\neg = \\begin{bmatrix}0 & 1 \\\\ 1 & 0 \\end{bmatrix}$."
   ]
  },
  {
   "cell_type": "code",
   "execution_count": 8,
   "metadata": {},
   "outputs": [
    {
     "data": {
      "text/plain": [
       "array([[0, 1],\n",
       "       [1, 0]])"
      ]
     },
     "execution_count": 8,
     "metadata": {},
     "output_type": "execute_result"
    }
   ],
   "source": [
    "neg = np.eye(2, dtype=int)\n",
    "neg[[0, 1]] = neg[[1, 0]]\n",
    "neg"
   ]
  },
  {
   "cell_type": "code",
   "execution_count": 9,
   "metadata": {},
   "outputs": [
    {
     "data": {
      "text/plain": [
       "(array([0, 1]), array([1, 0]))"
      ]
     },
     "execution_count": 9,
     "metadata": {},
     "output_type": "execute_result"
    }
   ],
   "source": [
    "np.matmul(neg, t), np.matmul(neg, f)"
   ]
  },
  {
   "cell_type": "markdown",
   "metadata": {},
   "source": [
    "The most common logical connectives are binary and not unary. To represent them we require rank 3 tensors, which are harder to visualise. Following Grefenstette, the logical or is represented as $\\pmb{\\text{T}}^\\lor = \\left[ \\begin{array}{c c | c c}1 & 1 & 1 & 0 \\\\ 0 & 0 & 0 & 1\\end{array} \\right]$, where the vertical line serves to introduce a third axis."
   ]
  },
  {
   "cell_type": "code",
   "execution_count": 10,
   "metadata": {},
   "outputs": [
    {
     "data": {
      "text/plain": [
       "array([[[1, 1],\n",
       "        [1, 0]],\n",
       "\n",
       "       [[0, 0],\n",
       "        [0, 1]]])"
      ]
     },
     "execution_count": 10,
     "metadata": {},
     "output_type": "execute_result"
    }
   ],
   "source": [
    "lor = np.array([[[1, 1],\n",
    "                 [1, 0]],\n",
    "\n",
    "                [[0, 0],\n",
    "                 [0, 1]]])\n",
    "\n",
    "lor"
   ]
  },
  {
   "cell_type": "markdown",
   "metadata": {},
   "source": [
    "As with predicates, the application of these tensors happen via the tensor product. For example,\n",
    "\n",
    "$\\pmb{\\text{T}}^\\lor \\times \\top \\times \\bot = \\left[ \\begin{array}{c c | c c}1 & 1 & 1 & 0 \\\\ 0 & 0 & 0 & 1\\end{array} \\right] \\begin{bmatrix}1\\\\ 0\\end{bmatrix} \\begin{bmatrix}0\\\\ 1\\end{bmatrix} = \\begin{bmatrix}1\\\\ 0\\end{bmatrix} = \\top$"
   ]
  },
  {
   "cell_type": "code",
   "execution_count": 11,
   "metadata": {},
   "outputs": [
    {
     "data": {
      "text/plain": [
       "array([1, 0])"
      ]
     },
     "execution_count": 11,
     "metadata": {},
     "output_type": "execute_result"
    }
   ],
   "source": [
    "np.matmul(np.matmul(lor, f), t)"
   ]
  },
  {
   "cell_type": "code",
   "execution_count": 12,
   "metadata": {},
   "outputs": [
    {
     "data": {
      "text/plain": [
       "array([[[1, 0],\n",
       "        [0, 0]],\n",
       "\n",
       "       [[0, 1],\n",
       "        [1, 1]]])"
      ]
     },
     "execution_count": 12,
     "metadata": {},
     "output_type": "execute_result"
    }
   ],
   "source": [
    "land = np.array([[[1, 0],\n",
    "                  [0, 0]],\n",
    "\n",
    "                 [[0, 1],\n",
    "                  [1, 1]]])\n",
    "\n",
    "land"
   ]
  },
  {
   "cell_type": "code",
   "execution_count": 13,
   "metadata": {},
   "outputs": [
    {
     "data": {
      "text/plain": [
       "array([[[1, 0],\n",
       "        [1, 1]],\n",
       "\n",
       "       [[0, 1],\n",
       "        [0, 0]]])"
      ]
     },
     "execution_count": 13,
     "metadata": {},
     "output_type": "execute_result"
    }
   ],
   "source": [
    "cond = np.array([[[1, 0],\n",
    "                  [1, 1]],\n",
    "\n",
    "                 [[0, 1],\n",
    "                  [0, 0]]])\n",
    "cond"
   ]
  },
  {
   "cell_type": "markdown",
   "metadata": {},
   "source": [
    "To make things a little easier and going beyond the Grefenstette paper, I embed the locgical connectives in lambda functions which do the tensor product for us."
   ]
  },
  {
   "cell_type": "code",
   "execution_count": 14,
   "metadata": {},
   "outputs": [],
   "source": [
    "n = lambda x: np.matmul(neg, x)\n",
    "a = lambda x, y: np.matmul(np.matmul(land, y), x)\n",
    "o = lambda x, y: np.matmul(np.matmul(lor, y), x)\n",
    "c = lambda x, y: np.matmul(np.matmul(cond, y), x)"
   ]
  },
  {
   "cell_type": "code",
   "execution_count": 15,
   "metadata": {},
   "outputs": [
    {
     "data": {
      "text/plain": [
       "array([0, 1])"
      ]
     },
     "execution_count": 15,
     "metadata": {},
     "output_type": "execute_result"
    }
   ],
   "source": [
    "n(t)"
   ]
  },
  {
   "cell_type": "markdown",
   "metadata": {},
   "source": [
    "With this slightly more convenient format, the following function will now create a truth table for any binary logical connective."
   ]
  },
  {
   "cell_type": "code",
   "execution_count": 16,
   "metadata": {},
   "outputs": [],
   "source": [
    "def truth_table(func):\n",
    "    all_input_pairs = itertools.product([t, f], [t, f])\n",
    "    \n",
    "    table = []\n",
    "    for input_pair in all_input_pairs:\n",
    "        table.append({\n",
    "            \"first\": input_pair[0],\n",
    "            \"second\": input_pair[1],\n",
    "            \"result\": func(input_pair[0], input_pair[1])\n",
    "            })\n",
    "            \n",
    "    return table"
   ]
  },
  {
   "cell_type": "markdown",
   "metadata": {},
   "source": [
    "As this function shows, the truth table for the logical or ($\\lor$) is correct.\n",
    "\n",
    "| First  | Second | Result |\n",
    "|--------|--------|--------|\n",
    "| $\\top$ | $\\top$ | $\\top$ |\n",
    "| $\\top$ | $\\bot$ | $\\top$ |\n",
    "| $\\bot$ | $\\top$ | $\\top$ |\n",
    "| $\\bot$ | $\\bot$ | $\\bot$ |"
   ]
  },
  {
   "cell_type": "code",
   "execution_count": 17,
   "metadata": {},
   "outputs": [
    {
     "data": {
      "text/html": [
       "<div>\n",
       "<style scoped>\n",
       "    .dataframe tbody tr th:only-of-type {\n",
       "        vertical-align: middle;\n",
       "    }\n",
       "\n",
       "    .dataframe tbody tr th {\n",
       "        vertical-align: top;\n",
       "    }\n",
       "\n",
       "    .dataframe thead th {\n",
       "        text-align: right;\n",
       "    }\n",
       "</style>\n",
       "<table border=\"1\" class=\"dataframe\">\n",
       "  <thead>\n",
       "    <tr style=\"text-align: right;\">\n",
       "      <th></th>\n",
       "      <th>first</th>\n",
       "      <th>second</th>\n",
       "      <th>result</th>\n",
       "    </tr>\n",
       "  </thead>\n",
       "  <tbody>\n",
       "    <tr>\n",
       "      <th>0</th>\n",
       "      <td>[1, 0]</td>\n",
       "      <td>[1, 0]</td>\n",
       "      <td>[1, 0]</td>\n",
       "    </tr>\n",
       "    <tr>\n",
       "      <th>1</th>\n",
       "      <td>[1, 0]</td>\n",
       "      <td>[0, 1]</td>\n",
       "      <td>[1, 0]</td>\n",
       "    </tr>\n",
       "    <tr>\n",
       "      <th>2</th>\n",
       "      <td>[0, 1]</td>\n",
       "      <td>[1, 0]</td>\n",
       "      <td>[1, 0]</td>\n",
       "    </tr>\n",
       "    <tr>\n",
       "      <th>3</th>\n",
       "      <td>[0, 1]</td>\n",
       "      <td>[0, 1]</td>\n",
       "      <td>[0, 1]</td>\n",
       "    </tr>\n",
       "  </tbody>\n",
       "</table>\n",
       "</div>"
      ],
      "text/plain": [
       "    first  second  result\n",
       "0  [1, 0]  [1, 0]  [1, 0]\n",
       "1  [1, 0]  [0, 1]  [1, 0]\n",
       "2  [0, 1]  [1, 0]  [1, 0]\n",
       "3  [0, 1]  [0, 1]  [0, 1]"
      ]
     },
     "execution_count": 17,
     "metadata": {},
     "output_type": "execute_result"
    }
   ],
   "source": [
    "pd.DataFrame(truth_table(o))"
   ]
  },
  {
   "cell_type": "markdown",
   "metadata": {},
   "source": [
    "Truth table for $\\land$:\n",
    "\n",
    "| First  | Second | Result |\n",
    "|--------|--------|--------|\n",
    "| $\\top$ | $\\top$ | $\\top$ |\n",
    "| $\\top$ | $\\bot$ | $\\bot$ |\n",
    "| $\\bot$ | $\\top$ | $\\bot$ |\n",
    "| $\\bot$ | $\\bot$ | $\\bot$ |"
   ]
  },
  {
   "cell_type": "code",
   "execution_count": 18,
   "metadata": {},
   "outputs": [
    {
     "data": {
      "text/html": [
       "<div>\n",
       "<style scoped>\n",
       "    .dataframe tbody tr th:only-of-type {\n",
       "        vertical-align: middle;\n",
       "    }\n",
       "\n",
       "    .dataframe tbody tr th {\n",
       "        vertical-align: top;\n",
       "    }\n",
       "\n",
       "    .dataframe thead th {\n",
       "        text-align: right;\n",
       "    }\n",
       "</style>\n",
       "<table border=\"1\" class=\"dataframe\">\n",
       "  <thead>\n",
       "    <tr style=\"text-align: right;\">\n",
       "      <th></th>\n",
       "      <th>first</th>\n",
       "      <th>second</th>\n",
       "      <th>result</th>\n",
       "    </tr>\n",
       "  </thead>\n",
       "  <tbody>\n",
       "    <tr>\n",
       "      <th>0</th>\n",
       "      <td>[1, 0]</td>\n",
       "      <td>[1, 0]</td>\n",
       "      <td>[1, 0]</td>\n",
       "    </tr>\n",
       "    <tr>\n",
       "      <th>1</th>\n",
       "      <td>[1, 0]</td>\n",
       "      <td>[0, 1]</td>\n",
       "      <td>[0, 1]</td>\n",
       "    </tr>\n",
       "    <tr>\n",
       "      <th>2</th>\n",
       "      <td>[0, 1]</td>\n",
       "      <td>[1, 0]</td>\n",
       "      <td>[0, 1]</td>\n",
       "    </tr>\n",
       "    <tr>\n",
       "      <th>3</th>\n",
       "      <td>[0, 1]</td>\n",
       "      <td>[0, 1]</td>\n",
       "      <td>[0, 1]</td>\n",
       "    </tr>\n",
       "  </tbody>\n",
       "</table>\n",
       "</div>"
      ],
      "text/plain": [
       "    first  second  result\n",
       "0  [1, 0]  [1, 0]  [1, 0]\n",
       "1  [1, 0]  [0, 1]  [0, 1]\n",
       "2  [0, 1]  [1, 0]  [0, 1]\n",
       "3  [0, 1]  [0, 1]  [0, 1]"
      ]
     },
     "execution_count": 18,
     "metadata": {},
     "output_type": "execute_result"
    }
   ],
   "source": [
    "pd.DataFrame(truth_table(a))"
   ]
  },
  {
   "cell_type": "markdown",
   "metadata": {},
   "source": [
    "Truth table for $\\to$:\n",
    "\n",
    "| First  | Second | Result |\n",
    "|--------|--------|--------|\n",
    "| $\\top$ | $\\top$ | $\\top$ |\n",
    "| $\\top$ | $\\bot$ | $\\bot$ |\n",
    "| $\\bot$ | $\\top$ | $\\top$ |\n",
    "| $\\bot$ | $\\bot$ | $\\top$ |"
   ]
  },
  {
   "cell_type": "code",
   "execution_count": 19,
   "metadata": {},
   "outputs": [
    {
     "data": {
      "text/html": [
       "<div>\n",
       "<style scoped>\n",
       "    .dataframe tbody tr th:only-of-type {\n",
       "        vertical-align: middle;\n",
       "    }\n",
       "\n",
       "    .dataframe tbody tr th {\n",
       "        vertical-align: top;\n",
       "    }\n",
       "\n",
       "    .dataframe thead th {\n",
       "        text-align: right;\n",
       "    }\n",
       "</style>\n",
       "<table border=\"1\" class=\"dataframe\">\n",
       "  <thead>\n",
       "    <tr style=\"text-align: right;\">\n",
       "      <th></th>\n",
       "      <th>first</th>\n",
       "      <th>second</th>\n",
       "      <th>result</th>\n",
       "    </tr>\n",
       "  </thead>\n",
       "  <tbody>\n",
       "    <tr>\n",
       "      <th>0</th>\n",
       "      <td>[1, 0]</td>\n",
       "      <td>[1, 0]</td>\n",
       "      <td>[1, 0]</td>\n",
       "    </tr>\n",
       "    <tr>\n",
       "      <th>1</th>\n",
       "      <td>[1, 0]</td>\n",
       "      <td>[0, 1]</td>\n",
       "      <td>[0, 1]</td>\n",
       "    </tr>\n",
       "    <tr>\n",
       "      <th>2</th>\n",
       "      <td>[0, 1]</td>\n",
       "      <td>[1, 0]</td>\n",
       "      <td>[1, 0]</td>\n",
       "    </tr>\n",
       "    <tr>\n",
       "      <th>3</th>\n",
       "      <td>[0, 1]</td>\n",
       "      <td>[0, 1]</td>\n",
       "      <td>[1, 0]</td>\n",
       "    </tr>\n",
       "  </tbody>\n",
       "</table>\n",
       "</div>"
      ],
      "text/plain": [
       "    first  second  result\n",
       "0  [1, 0]  [1, 0]  [1, 0]\n",
       "1  [1, 0]  [0, 1]  [0, 1]\n",
       "2  [0, 1]  [1, 0]  [1, 0]\n",
       "3  [0, 1]  [0, 1]  [1, 0]"
      ]
     },
     "execution_count": 19,
     "metadata": {},
     "output_type": "execute_result"
    }
   ],
   "source": [
    "pd.DataFrame(truth_table(c))"
   ]
  },
  {
   "cell_type": "markdown",
   "metadata": {},
   "source": [
    "Not only do the truth tables fit with standard first-order logic, but it also becomes possible to compose logical operators out of the primitives. For example, we could also have defined the conditional using just or and negation: $\\neg X \\lor Y \\equiv X \\to Y$"
   ]
  },
  {
   "cell_type": "code",
   "execution_count": 20,
   "metadata": {},
   "outputs": [
    {
     "data": {
      "text/html": [
       "<div>\n",
       "<style scoped>\n",
       "    .dataframe tbody tr th:only-of-type {\n",
       "        vertical-align: middle;\n",
       "    }\n",
       "\n",
       "    .dataframe tbody tr th {\n",
       "        vertical-align: top;\n",
       "    }\n",
       "\n",
       "    .dataframe thead th {\n",
       "        text-align: right;\n",
       "    }\n",
       "</style>\n",
       "<table border=\"1\" class=\"dataframe\">\n",
       "  <thead>\n",
       "    <tr style=\"text-align: right;\">\n",
       "      <th></th>\n",
       "      <th>first</th>\n",
       "      <th>second</th>\n",
       "      <th>result</th>\n",
       "    </tr>\n",
       "  </thead>\n",
       "  <tbody>\n",
       "    <tr>\n",
       "      <th>0</th>\n",
       "      <td>[1, 0]</td>\n",
       "      <td>[1, 0]</td>\n",
       "      <td>[1, 0]</td>\n",
       "    </tr>\n",
       "    <tr>\n",
       "      <th>1</th>\n",
       "      <td>[1, 0]</td>\n",
       "      <td>[0, 1]</td>\n",
       "      <td>[0, 1]</td>\n",
       "    </tr>\n",
       "    <tr>\n",
       "      <th>2</th>\n",
       "      <td>[0, 1]</td>\n",
       "      <td>[1, 0]</td>\n",
       "      <td>[1, 0]</td>\n",
       "    </tr>\n",
       "    <tr>\n",
       "      <th>3</th>\n",
       "      <td>[0, 1]</td>\n",
       "      <td>[0, 1]</td>\n",
       "      <td>[1, 0]</td>\n",
       "    </tr>\n",
       "  </tbody>\n",
       "</table>\n",
       "</div>"
      ],
      "text/plain": [
       "    first  second  result\n",
       "0  [1, 0]  [1, 0]  [1, 0]\n",
       "1  [1, 0]  [0, 1]  [0, 1]\n",
       "2  [0, 1]  [1, 0]  [1, 0]\n",
       "3  [0, 1]  [0, 1]  [1, 0]"
      ]
     },
     "execution_count": 20,
     "metadata": {},
     "output_type": "execute_result"
    }
   ],
   "source": [
    "c2 = lambda x, y: o(n(x), y)\n",
    "pd.DataFrame(truth_table(c2))"
   ]
  },
  {
   "cell_type": "markdown",
   "metadata": {},
   "source": [
    "In this way we can also introduce new logical operators such as the exclusive or, which returns true exactly if it receives a truth and a false value."
   ]
  },
  {
   "cell_type": "code",
   "execution_count": 21,
   "metadata": {},
   "outputs": [],
   "source": [
    "xor = lambda x, y: a(o(x, y), o(n(x), n(y)))"
   ]
  },
  {
   "cell_type": "code",
   "execution_count": 22,
   "metadata": {},
   "outputs": [
    {
     "data": {
      "text/html": [
       "<div>\n",
       "<style scoped>\n",
       "    .dataframe tbody tr th:only-of-type {\n",
       "        vertical-align: middle;\n",
       "    }\n",
       "\n",
       "    .dataframe tbody tr th {\n",
       "        vertical-align: top;\n",
       "    }\n",
       "\n",
       "    .dataframe thead th {\n",
       "        text-align: right;\n",
       "    }\n",
       "</style>\n",
       "<table border=\"1\" class=\"dataframe\">\n",
       "  <thead>\n",
       "    <tr style=\"text-align: right;\">\n",
       "      <th></th>\n",
       "      <th>first</th>\n",
       "      <th>second</th>\n",
       "      <th>result</th>\n",
       "    </tr>\n",
       "  </thead>\n",
       "  <tbody>\n",
       "    <tr>\n",
       "      <th>0</th>\n",
       "      <td>[1, 0]</td>\n",
       "      <td>[1, 0]</td>\n",
       "      <td>[0, 1]</td>\n",
       "    </tr>\n",
       "    <tr>\n",
       "      <th>1</th>\n",
       "      <td>[1, 0]</td>\n",
       "      <td>[0, 1]</td>\n",
       "      <td>[1, 0]</td>\n",
       "    </tr>\n",
       "    <tr>\n",
       "      <th>2</th>\n",
       "      <td>[0, 1]</td>\n",
       "      <td>[1, 0]</td>\n",
       "      <td>[1, 0]</td>\n",
       "    </tr>\n",
       "    <tr>\n",
       "      <th>3</th>\n",
       "      <td>[0, 1]</td>\n",
       "      <td>[0, 1]</td>\n",
       "      <td>[0, 1]</td>\n",
       "    </tr>\n",
       "  </tbody>\n",
       "</table>\n",
       "</div>"
      ],
      "text/plain": [
       "    first  second  result\n",
       "0  [1, 0]  [1, 0]  [0, 1]\n",
       "1  [1, 0]  [0, 1]  [1, 0]\n",
       "2  [0, 1]  [1, 0]  [1, 0]\n",
       "3  [0, 1]  [0, 1]  [0, 1]"
      ]
     },
     "execution_count": 22,
     "metadata": {},
     "output_type": "execute_result"
    }
   ],
   "source": [
    "pd.DataFrame(truth_table(xor))"
   ]
  },
  {
   "cell_type": "markdown",
   "metadata": {},
   "source": [
    "## Quantifiers and Non-Linearity\n",
    "\n",
    "So far we have operated with a quantifier-free fragment of first order logic. To simulate quantifiers, Grefenstette offers a second take on predicates. When we modelled the predicate \"is a mathematician\" before, we treated it as a function from domain elements to truth values. Now it will be instead a function from objects in the domain to objects in the domain, i.e. $f_p: \\mathcal{P(D)} \\to \\mathcal{P(D)}$.\n",
    "  \n",
    "Let's represent the set of dogs as the vector $\\begin{bmatrix}1 & 1 & 0\\end{bmatrix}^\\top$, which roughly means that the first two objects in the domain are dogs. The predicate \"is a dog\" is then represented by the tensor $\\begin{bmatrix}1 & 0 & 0 \\\\ 0 & 1 & 0 \\\\ 0 & 0 & 0 \\end{bmatrix}$ in  $\\mathcal{D} \\otimes \\mathcal{D}$."
   ]
  },
  {
   "cell_type": "code",
   "execution_count": 23,
   "metadata": {},
   "outputs": [],
   "source": [
    "dogs = np.array([1, 1, 0])"
   ]
  },
  {
   "cell_type": "code",
   "execution_count": 24,
   "metadata": {},
   "outputs": [],
   "source": [
    "isdog = np.array([[1, 0, 0],\n",
    "                  [0, 1, 0],\n",
    "                  [0, 0, 0]])"
   ]
  },
  {
   "cell_type": "markdown",
   "metadata": {},
   "source": [
    "When we multiply the predicate tensor of \"is a dog\" with the vector representing all entities in the domain, i.e. $\\begin{bmatrix}1 & 1 & 1\\end{bmatrix}^\\top$, we get back the set of dogs."
   ]
  },
  {
   "cell_type": "code",
   "execution_count": 25,
   "metadata": {},
   "outputs": [],
   "source": [
    "entities = np.ones(3, dtype=int)"
   ]
  },
  {
   "cell_type": "code",
   "execution_count": 26,
   "metadata": {},
   "outputs": [
    {
     "data": {
      "text/plain": [
       "array([1, 1, 0])"
      ]
     },
     "execution_count": 26,
     "metadata": {},
     "output_type": "execute_result"
    }
   ],
   "source": [
    "np.matmul(isdog, entities)"
   ]
  },
  {
   "cell_type": "markdown",
   "metadata": {},
   "source": [
    "On this basis, we can introduce further predicate tensors, for example the predicates \"is brown\" and \"is black\", which we then apply to dogs to see whether any dogs are brown or black."
   ]
  },
  {
   "cell_type": "code",
   "execution_count": 27,
   "metadata": {},
   "outputs": [],
   "source": [
    "brown = np.array([[0, 0, 0],\n",
    "                  [0, 1, 0],\n",
    "                  [0, 0, 1]])"
   ]
  },
  {
   "cell_type": "code",
   "execution_count": 28,
   "metadata": {},
   "outputs": [
    {
     "data": {
      "text/plain": [
       "array([0, 1, 0])"
      ]
     },
     "execution_count": 28,
     "metadata": {},
     "output_type": "execute_result"
    }
   ],
   "source": [
    "np.matmul(brown, dogs)"
   ]
  },
  {
   "cell_type": "markdown",
   "metadata": {},
   "source": [
    "This result indicates that the second dog is brown."
   ]
  },
  {
   "cell_type": "code",
   "execution_count": 29,
   "metadata": {},
   "outputs": [
    {
     "data": {
      "text/plain": [
       "array([1, 0, 0])"
      ]
     },
     "execution_count": 29,
     "metadata": {},
     "output_type": "execute_result"
    }
   ],
   "source": [
    "black = np.array([[1, 0, 0],\n",
    "                  [0, 0, 0],\n",
    "                  [0, 0, 0]])\n",
    "np.matmul(black, dogs)"
   ]
  },
  {
   "cell_type": "code",
   "execution_count": 30,
   "metadata": {},
   "outputs": [
    {
     "data": {
      "text/plain": [
       "array([0, 0, 1])"
      ]
     },
     "execution_count": 30,
     "metadata": {},
     "output_type": "execute_result"
    }
   ],
   "source": [
    "cats = np.array([0, 0, 1])\n",
    "iscat = np.array([[0, 0, 0],\n",
    "                  [0, 0, 0],\n",
    "                  [0, 0, 1]])\n",
    "np.matmul(iscat, entities)"
   ]
  },
  {
   "cell_type": "code",
   "execution_count": 31,
   "metadata": {},
   "outputs": [
    {
     "data": {
      "text/plain": [
       "(array([0, 0, 1]), array([0, 0, 0]))"
      ]
     },
     "execution_count": 31,
     "metadata": {},
     "output_type": "execute_result"
    }
   ],
   "source": [
    "np.matmul(brown, cats), np.matmul(black, cats)"
   ]
  },
  {
   "cell_type": "markdown",
   "metadata": {},
   "source": [
    "In our domain, there is one brown and no black cat."
   ]
  },
  {
   "cell_type": "markdown",
   "metadata": {},
   "source": [
    "While we no have predicates that return extension, we still have not introduced general quantifiers. In contrast to all we have encountered so far, Grefenstette does not represent them as tensors. He instead provides functions for them and proves that these functions cannot be represented as tensors. (I won't go into the proof here, although it is relatively straightforward.)"
   ]
  },
  {
   "cell_type": "markdown",
   "metadata": {},
   "source": [
    "The $forall$ quantifier takes two predicate tensors and returns true if all objects in the extension of the first predicate are in the extension of the second. Formally,\n",
    "$forall(\\pmb{\\text{X,Y}}) = \n",
    "\\begin{cases}\n",
    "\\top & \\text{if}\\, \\pmb{\\text{X}} = min(\\pmb{\\text{X,Y}})\\\\\n",
    "\\bot & \\text{otherwise}\n",
    "\\end{cases}$"
   ]
  },
  {
   "cell_type": "code",
   "execution_count": 32,
   "metadata": {},
   "outputs": [],
   "source": [
    "def forall(X, Y):\n",
    "    ones = np.ones(X.shape[0], dtype=int)\n",
    "    \n",
    "    x, y = map(lambda m: np.matmul(m, ones), (X, Y))\n",
    "    \n",
    "    if (x == x * y).all():\n",
    "        return t\n",
    "    else:\n",
    "        return f"
   ]
  },
  {
   "cell_type": "code",
   "execution_count": 33,
   "metadata": {},
   "outputs": [
    {
     "data": {
      "text/plain": [
       "array([0, 1])"
      ]
     },
     "execution_count": 33,
     "metadata": {},
     "output_type": "execute_result"
    }
   ],
   "source": [
    "forall(isdog, brown)"
   ]
  },
  {
   "cell_type": "code",
   "execution_count": 34,
   "metadata": {},
   "outputs": [
    {
     "data": {
      "text/plain": [
       "array([1, 0])"
      ]
     },
     "execution_count": 34,
     "metadata": {},
     "output_type": "execute_result"
    }
   ],
   "source": [
    "forall(iscat, brown)"
   ]
  },
  {
   "cell_type": "markdown",
   "metadata": {},
   "source": [
    "Note that the order of predicates matters. While all cats in our domain are brown, not all brown objects are cats."
   ]
  },
  {
   "cell_type": "code",
   "execution_count": 35,
   "metadata": {},
   "outputs": [
    {
     "data": {
      "text/plain": [
       "array([0, 1])"
      ]
     },
     "execution_count": 35,
     "metadata": {},
     "output_type": "execute_result"
    }
   ],
   "source": [
    "forall(brown, iscat)"
   ]
  },
  {
   "cell_type": "markdown",
   "metadata": {},
   "source": [
    "Grefenstette also introduces an existential quantifier, which simply checks whether there is an object in the extension of the tensor, i.e. if it is ever not 0. \n",
    "\n",
    "$exists(\\pmb{\\text{X}}) = \n",
    "\\begin{cases}\n",
    "\\top & \\text{if}\\, |\\pmb{\\text{X}}| > 0 \\\\\n",
    "\\bot & \\text{otherwise}\n",
    "\\end{cases}$"
   ]
  },
  {
   "cell_type": "code",
   "execution_count": 36,
   "metadata": {},
   "outputs": [],
   "source": [
    "def exists(X):\n",
    "    if np.any(X != 0):\n",
    "        return t\n",
    "    else:\n",
    "        return f"
   ]
  },
  {
   "cell_type": "code",
   "execution_count": 37,
   "metadata": {},
   "outputs": [
    {
     "data": {
      "text/plain": [
       "(array([1, 0]), array([1, 0]))"
      ]
     },
     "execution_count": 37,
     "metadata": {},
     "output_type": "execute_result"
    }
   ],
   "source": [
    "exists(cats), exists(iscat)"
   ]
  },
  {
   "cell_type": "code",
   "execution_count": 38,
   "metadata": {},
   "outputs": [
    {
     "data": {
      "text/plain": [
       "array([1, 0])"
      ]
     },
     "execution_count": 38,
     "metadata": {},
     "output_type": "execute_result"
    }
   ],
   "source": [
    "exists(np.matmul(iscat, brown))"
   ]
  },
  {
   "cell_type": "code",
   "execution_count": 39,
   "metadata": {},
   "outputs": [
    {
     "data": {
      "text/plain": [
       "array([0, 1])"
      ]
     },
     "execution_count": 39,
     "metadata": {},
     "output_type": "execute_result"
    }
   ],
   "source": [
    "exists(np.matmul(iscat, black))"
   ]
  },
  {
   "cell_type": "code",
   "execution_count": 40,
   "metadata": {},
   "outputs": [
    {
     "data": {
      "text/plain": [
       "array([1, 0])"
      ]
     },
     "execution_count": 40,
     "metadata": {},
     "output_type": "execute_result"
    }
   ],
   "source": [
    "exists(np.matmul(isdog, black))"
   ]
  },
  {
   "cell_type": "markdown",
   "metadata": {},
   "source": [
    "Importantly, we can still use logical connectives. For example, we can get the truth value of the following sentence: \n",
    "\n",
    "\"There is a black cat or there is a brown dog.\""
   ]
  },
  {
   "cell_type": "code",
   "execution_count": 41,
   "metadata": {},
   "outputs": [
    {
     "data": {
      "text/plain": [
       "array([1, 0])"
      ]
     },
     "execution_count": 41,
     "metadata": {},
     "output_type": "execute_result"
    }
   ],
   "source": [
    "o(exists(np.matmul(iscat, black)), exists(np.matmul(isdog, brown)))"
   ]
  },
  {
   "cell_type": "markdown",
   "metadata": {},
   "source": [
    "\"There is a black cat and a brown dog.\""
   ]
  },
  {
   "cell_type": "code",
   "execution_count": 42,
   "metadata": {},
   "outputs": [
    {
     "data": {
      "text/plain": [
       "array([0, 1])"
      ]
     },
     "execution_count": 42,
     "metadata": {},
     "output_type": "execute_result"
    }
   ],
   "source": [
    "a(exists(np.matmul(iscat, black)), exists(np.matmul(isdog, brown)))"
   ]
  },
  {
   "cell_type": "markdown",
   "metadata": {},
   "source": [
    "\"There is no black cat and there is a brown dog.\""
   ]
  },
  {
   "cell_type": "code",
   "execution_count": 43,
   "metadata": {},
   "outputs": [
    {
     "data": {
      "text/plain": [
       "array([1, 0])"
      ]
     },
     "execution_count": 43,
     "metadata": {},
     "output_type": "execute_result"
    }
   ],
   "source": [
    "a(n(exists(np.matmul(iscat, black))), exists(np.matmul(isdog, brown)))"
   ]
  },
  {
   "cell_type": "markdown",
   "metadata": {},
   "source": [
    "We can take from Grefenstette's paper that the chasm between tensors and logical calculus can be bridged. That being said, there remains a large gap between simulating logical with manually created tensors for small domains and with the tensors that result from counting co-occurences or even neural embeddings. "
   ]
  },
  {
   "cell_type": "markdown",
   "metadata": {},
   "source": [
    "## References\n",
    "\n",
    "- Coecke, B., Sadrzadeh, M., & Clark, S. (2010). Mathematical Foundations for a Compositional Distributed Model of Meaning. *Lambek Festschrift Linguistic Analysis*, 36, 345–384.\n",
    "- Grefenstette, E. (2013). Towards a Formal Distributional Semantics: Simulating Logical Calculi with Tensors. *Second Joint Conference on Lexical and Computational Semantics (\\*SEM), Volume 1: Proceedings of the Main Conference and the Shared Task: Semantic Textual Similarity*, 1–10. https://www.aclweb.org/anthology/S13-1001"
   ]
  }
 ],
 "metadata": {
  "kernelspec": {
   "display_name": "Python 3",
   "language": "python",
   "name": "python3"
  },
  "language_info": {
   "codemirror_mode": {
    "name": "ipython",
    "version": 3
   },
   "file_extension": ".py",
   "mimetype": "text/x-python",
   "name": "python",
   "nbconvert_exporter": "python",
   "pygments_lexer": "ipython3",
   "version": "3.8.3"
  }
 },
 "nbformat": 4,
 "nbformat_minor": 4
}
